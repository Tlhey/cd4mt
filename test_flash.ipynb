{
 "cells": [
  {
   "cell_type": "markdown",
   "id": "551e628b",
   "metadata": {},
   "source": [
    "## Flash Attention Sanity Check\n",
    "\n",
    "Run this notebook from the project root after installing `flash-attn>=2.0.0` on a CUDA-enabled runtime. The cells exercise the updated import paths for both the standalone UNet attention wrapper and the latent diffusion cross-attention module.\n"
   ]
  },
  {
   "cell_type": "code",
   "execution_count": null,
   "id": "4d3f9138",
   "metadata": {},
   "outputs": [
    {
     "data": {
      "text/plain": [
       "torch.Size([2, 128, 64])"
      ]
     },
     "execution_count": 1,
     "metadata": {},
     "output_type": "execute_result"
    }
   ],
   "source": [
    "import torch\n",
    "\n",
    "try:\n",
    "    from src.cm.unet import QKVFlashAttention\n",
    "except ImportError as err:\n",
    "    raise RuntimeError(\"Make sure this notebook runs from the cd4mt repo root.\") from err\n",
    "\n",
    "device = 'cuda' if torch.cuda.is_available() else None\n",
    "if device is None:\n",
    "    raise RuntimeError('Flash attention 2.x requires a CUDA runtime with compatible drivers.')\n",
    "\n",
    "embed_dim = 128\n",
    "num_heads = 4\n",
    "seq_len = 64\n",
    "batch_size = 2\n",
    "\n",
    "attn = QKVFlashAttention(\n",
    "    embed_dim=embed_dim,\n",
    "    num_heads=num_heads,\n",
    "    attention_dropout=0.0,\n",
    "    causal=False,\n",
    "    dtype=torch.float16,\n",
    ")\n",
    "attn = attn.to(device)\n",
    "\n",
    "qkv = torch.randn(batch_size, 3 * embed_dim, seq_len, device=device, dtype=torch.float16)\n",
    "with torch.no_grad():\n",
    "    out = attn(qkv)\n",
    "\n",
    "out.shape"
   ]
  },
  {
   "cell_type": "code",
   "execution_count": 2,
   "id": "709bd4b3",
   "metadata": {},
   "outputs": [
    {
     "ename": "ModuleNotFoundError",
     "evalue": "No module named 'latent_diffusion'",
     "output_type": "error",
     "traceback": [
      "\u001b[0;31m---------------------------------------------------------------------------\u001b[0m",
      "\u001b[0;31mModuleNotFoundError\u001b[0m                       Traceback (most recent call last)",
      "Cell \u001b[0;32mIn[2], line 1\u001b[0m\n\u001b[0;32m----> 1\u001b[0m \u001b[38;5;28;01mfrom\u001b[39;00m\u001b[38;5;250m \u001b[39m\u001b[38;5;21;01mldm\u001b[39;00m\u001b[38;5;21;01m.\u001b[39;00m\u001b[38;5;21;01mmodules\u001b[39;00m\u001b[38;5;21;01m.\u001b[39;00m\u001b[38;5;21;01mmodules\u001b[39;00m\u001b[38;5;250m \u001b[39m\u001b[38;5;28;01mimport\u001b[39;00m attention \u001b[38;5;28;01mas\u001b[39;00m ldm_attn\n\u001b[1;32m      3\u001b[0m ldm_attn\u001b[38;5;241m.\u001b[39mCrossAttention\u001b[38;5;241m.\u001b[39muse_flash_attention \u001b[38;5;241m=\u001b[39m \u001b[38;5;28;01mTrue\u001b[39;00m\n\u001b[1;32m      5\u001b[0m cross \u001b[38;5;241m=\u001b[39m ldm_attn\u001b[38;5;241m.\u001b[39mCrossAttention(\n\u001b[1;32m      6\u001b[0m     query_dim\u001b[38;5;241m=\u001b[39membed_dim,\n\u001b[1;32m      7\u001b[0m     heads\u001b[38;5;241m=\u001b[39mnum_heads,\n\u001b[1;32m      8\u001b[0m     dim_head\u001b[38;5;241m=\u001b[39membed_dim \u001b[38;5;241m/\u001b[39m\u001b[38;5;241m/\u001b[39m num_heads,\n\u001b[1;32m      9\u001b[0m     dropout\u001b[38;5;241m=\u001b[39m\u001b[38;5;241m0.0\u001b[39m,\n\u001b[1;32m     10\u001b[0m )\n",
      "File \u001b[0;32m/data1/yuchen/cd4mt/ldm/modules/modules/attention.py:8\u001b[0m\n\u001b[1;32m      5\u001b[0m \u001b[38;5;28;01mfrom\u001b[39;00m\u001b[38;5;250m \u001b[39m\u001b[38;5;21;01mtorch\u001b[39;00m\u001b[38;5;250m \u001b[39m\u001b[38;5;28;01mimport\u001b[39;00m nn, einsum\n\u001b[1;32m      6\u001b[0m \u001b[38;5;28;01mfrom\u001b[39;00m\u001b[38;5;250m \u001b[39m\u001b[38;5;21;01meinops\u001b[39;00m\u001b[38;5;250m \u001b[39m\u001b[38;5;28;01mimport\u001b[39;00m rearrange, repeat\n\u001b[0;32m----> 8\u001b[0m \u001b[38;5;28;01mfrom\u001b[39;00m\u001b[38;5;250m \u001b[39m\u001b[38;5;21;01mlatent_diffusion\u001b[39;00m\u001b[38;5;21;01m.\u001b[39;00m\u001b[38;5;21;01mmodules\u001b[39;00m\u001b[38;5;21;01m.\u001b[39;00m\u001b[38;5;21;01mdiffusionmodules\u001b[39;00m\u001b[38;5;21;01m.\u001b[39;00m\u001b[38;5;21;01mutil\u001b[39;00m\u001b[38;5;250m \u001b[39m\u001b[38;5;28;01mimport\u001b[39;00m checkpoint\n\u001b[1;32m     11\u001b[0m \u001b[38;5;28;01mdef\u001b[39;00m\u001b[38;5;250m \u001b[39m\u001b[38;5;21mexists\u001b[39m(val):\n\u001b[1;32m     12\u001b[0m     \u001b[38;5;28;01mreturn\u001b[39;00m val \u001b[38;5;129;01mis\u001b[39;00m \u001b[38;5;129;01mnot\u001b[39;00m \u001b[38;5;28;01mNone\u001b[39;00m\n",
      "\u001b[0;31mModuleNotFoundError\u001b[0m: No module named 'latent_diffusion'"
     ]
    }
   ],
   "source": [
    "from ldm.modules.modules import attention as ldm_attn\n",
    "\n",
    "ldm_attn.CrossAttention.use_flash_attention = True\n",
    "\n",
    "cross = ldm_attn.CrossAttention(\n",
    "    query_dim=embed_dim,\n",
    "    heads=num_heads,\n",
    "    dim_head=embed_dim // num_heads,\n",
    "    dropout=0.0,\n",
    ")\n",
    "cross = cross.to(device)\n",
    "\n",
    "x = torch.randn(batch_size, seq_len, embed_dim, device=device)\n",
    "\n",
    "with torch.no_grad():\n",
    "    cross_out = cross(x)\n",
    "\n",
    "cross_out.shape\n"
   ]
  }
 ],
 "metadata": {
  "kernelspec": {
   "display_name": "Python (cdp10)",
   "language": "python",
   "name": "cdp10"
  },
  "language_info": {
   "codemirror_mode": {
    "name": "ipython",
    "version": 3
   },
   "file_extension": ".py",
   "mimetype": "text/x-python",
   "name": "python",
   "nbconvert_exporter": "python",
   "pygments_lexer": "ipython3",
   "version": "3.10.18"
  }
 },
 "nbformat": 4,
 "nbformat_minor": 5
}
